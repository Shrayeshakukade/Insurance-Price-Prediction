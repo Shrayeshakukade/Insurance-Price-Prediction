{
 "cells": [
  {
   "cell_type": "code",
   "execution_count": null,
   "id": "83a73c6e",
   "metadata": {},
   "outputs": [],
   "source": [
    "import numpy as np\n",
    "import pandas as pd\n",
    "\n",
    "from sklearn import preprocessing\n",
    "from sklearn import model_selection"
   ]
  },
  {
   "cell_type": "code",
   "execution_count": null,
   "id": "5739d44f",
   "metadata": {},
   "outputs": [],
   "source": [
    "train_data = pd.read_csv(\"0000000000013600_training_train.csv\", delimiter = \",\")\n",
    "train_data.head()"
   ]
  },
  {
   "cell_type": "code",
   "execution_count": null,
   "id": "4febfbf1",
   "metadata": {},
   "outputs": [],
   "source": [
    "test_data = pd.read_csv(\"0000000000013600_test_test.csv\", delimiter = \",\")\n",
    "test_data.columns = ['age','sex','bmi','children','smoker','region']\n",
    "test_data.head()"
   ]
  },
  {
   "cell_type": "code",
   "execution_count": null,
   "id": "3f75500a",
   "metadata": {},
   "outputs": [],
   "source": [
    "train_data['sex'].unique(), train_data['region'].unique()"
   ]
  },
  {
   "cell_type": "code",
   "execution_count": null,
   "id": "1d59bffb",
   "metadata": {},
   "outputs": [],
   "source": [
    "from sklearn import preprocessing\n",
    "label_encoder = preprocessing.LabelEncoder()\n",
    "  \n",
    "train_data['sex']= label_encoder.fit_transform(train_data['sex'])\n",
    "train_data['region']= label_encoder.fit_transform(train_data['region'])\n",
    "train_data['smoker']= label_encoder.fit_transform(train_data['smoker'])\n",
    "\n",
    "train_data['sex'].unique(), train_data['region'].unique(), train_data['smoker'].unique()"
   ]
  },
  {
   "cell_type": "code",
   "execution_count": null,
   "id": "aeccfa9e",
   "metadata": {},
   "outputs": [],
   "source": [
    "train = train_data.to_numpy()\n",
    "#train, test"
   ]
  },
  {
   "cell_type": "code",
   "execution_count": null,
   "id": "8904def8",
   "metadata": {},
   "outputs": [],
   "source": [
    "X_train = train[:, :-1]\n",
    "print(X_train.shape)\n",
    "Y_train = train[:, -1]\n",
    "print(Y_train.shape)"
   ]
  },
  {
   "cell_type": "code",
   "execution_count": null,
   "id": "f297378c",
   "metadata": {},
   "outputs": [],
   "source": [
    "scaler = preprocessing.StandardScaler()\n",
    "scaler.fit(X_train)\n",
    "X_train = scaler.transform(X_train)\n",
    "X_train"
   ]
  },
  {
   "cell_type": "code",
   "execution_count": null,
   "id": "8484d64a",
   "metadata": {},
   "outputs": [],
   "source": [
    "#m = run(X, Y)"
   ]
  },
  {
   "cell_type": "code",
   "execution_count": null,
   "id": "e5826938",
   "metadata": {},
   "outputs": [],
   "source": [
    "# generic gd\n",
    "\n",
    "def step_gradient(X, Y, learning_rate, m):\n",
    "    m_slope = np.zeros(len(X[0]))\n",
    "    M = len(X)\n",
    "    for i in range(M):\n",
    "        x = X[i]\n",
    "        y = Y[i]\n",
    "        for j in range(len(x)):\n",
    "            m_slope[j] += -(2 / M) * (y - sum(m * x)) * x[j]\n",
    "    new_m = m - learning_rate * m_slope\n",
    "    return new_m"
   ]
  },
  {
   "cell_type": "code",
   "execution_count": null,
   "id": "2047a333",
   "metadata": {},
   "outputs": [],
   "source": [
    "def gd(X, Y, learning_rate, n_iterations):\n",
    "    m = np.zeros(len(X[0]))\n",
    "    for i in range(n_iterations):\n",
    "        m = step_gradient(X, Y, learning_rate, m)\n",
    "        print(i, \"Cost : \", cost(X, Y, m))\n",
    "    return m"
   ]
  },
  {
   "cell_type": "code",
   "execution_count": null,
   "id": "88ce825c",
   "metadata": {},
   "outputs": [],
   "source": [
    "def cost(X, Y, m):\n",
    "    tot_cost = 0\n",
    "    M = len(X)\n",
    "    for i in range(M):\n",
    "        tot_cost += (1 / M) * ((Y[i] - (m * x[i]).sum()) ** 2)\n",
    "    return tot_cost"
   ]
  },
  {
   "cell_type": "code",
   "execution_count": null,
   "id": "408f01c0",
   "metadata": {},
   "outputs": [],
   "source": [
    "def run():\n",
    "    #data = X\n",
    "    learning_rate = 0.00099\n",
    "    n_iterations = 20\n",
    "    x = X_train\n",
    "    x = np.append(x,np.ones(len(x)).reshape(-1,1),axis=1)\n",
    "    y = X_train[:, -1:] \n",
    "    m = gd(x, y, learning_rate, n_iterations)\n",
    "    print(m)\n",
    "    return m"
   ]
  },
  {
   "cell_type": "code",
   "execution_count": null,
   "id": "4537aca2",
   "metadata": {},
   "outputs": [],
   "source": [
    "run()"
   ]
  },
  {
   "cell_type": "code",
   "execution_count": null,
   "id": "1cbf35dc",
   "metadata": {},
   "outputs": [],
   "source": [
    "type(test_data)"
   ]
  },
  {
   "cell_type": "code",
   "execution_count": null,
   "id": "11c1bbfe",
   "metadata": {},
   "outputs": [],
   "source": [
    "from sklearn import preprocessing\n",
    "label_encoder = preprocessing.LabelEncoder()\n",
    "  \n",
    "test_data['sex'] = label_encoder.fit_transform(test_data['sex'])\n",
    "test_data['region']= label_encoder.fit_transform(test_data['region'])\n",
    "test_data['smoker']= label_encoder.fit_transform(test_data['smoker'])\n",
    "\n",
    "test_data['sex'].unique(), test_data['region'].unique(), test_data['smoker'].unique()\n"
   ]
  },
  {
   "cell_type": "code",
   "execution_count": null,
   "id": "1260de7f",
   "metadata": {},
   "outputs": [],
   "source": [
    "def run():\n",
    "    #data = X\n",
    "    learning_rate = 0.00099\n",
    "    n_iterations = 10\n",
    "    x = X_test\n",
    "    x = np.append(x,np.ones(len(x)).reshape(-1,1),axis=1)\n",
    "    y = X_test[:, -1:] \n",
    "    m = gd(x, y, learning_rate, n_iterations)\n",
    "    print(m)"
   ]
  },
  {
   "cell_type": "code",
   "execution_count": null,
   "id": "0a5933bf",
   "metadata": {},
   "outputs": [],
   "source": [
    "run()"
   ]
  },
  {
   "cell_type": "code",
   "execution_count": null,
   "id": "0d294c06",
   "metadata": {},
   "outputs": [],
   "source": [
    "Y_pred = []\n",
    "x = X_test\n",
    "x = np.append(x,np.ones(len(x)).reshape(-1,1),axis=1)\n",
    "for i in x:\n",
    "    Y_pred.append(sum(m * i))\n",
    "\n",
    "for i in Y_pred:\n",
    "    print(i)\n",
    "\n",
    "Y_pred = np.array(Y_pred)\n",
    "\n",
    "Y_pred"
   ]
  },
  {
   "cell_type": "code",
   "execution_count": null,
   "id": "14068c41",
   "metadata": {},
   "outputs": [],
   "source": [
    "np.savetxt(X = Y_pred, fname = \"Predicted.csv\", delimiter = \",\", fmt = \"%.5f\")"
   ]
  }
 ],
 "metadata": {
  "kernelspec": {
   "display_name": "Python 3 (ipykernel)",
   "language": "python",
   "name": "python3"
  },
  "language_info": {
   "codemirror_mode": {
    "name": "ipython",
    "version": 3
   },
   "file_extension": ".py",
   "mimetype": "text/x-python",
   "name": "python",
   "nbconvert_exporter": "python",
   "pygments_lexer": "ipython3",
   "version": "3.9.13"
  }
 },
 "nbformat": 4,
 "nbformat_minor": 5
}
